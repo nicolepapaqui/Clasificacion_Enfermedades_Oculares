{
 "cells": [
  {
   "cell_type": "code",
<<<<<<< HEAD
   "execution_count": null,
=======
   "execution_count": 1,
>>>>>>> 317bdefd40d132d2291fb1a202fb3623461a9973
   "metadata": {},
   "outputs": [
    {
     "name": "stdout",
     "output_type": "stream",
     "text": [
      "División completada. Train y Test creados en 'dataset/'.\n"
     ]
    }
   ],
   "source": [
    "import os\n",
    "import shutil\n",
    "import random\n",
    "\n",
    "# Directorio donde están las imágenes originales\n",
<<<<<<< HEAD
    "original_dir = r\"C:\\Users\\nicole\\OneDrive\\Documentos\\DiplomadoCienciaDatos\\Modulo06_RedesNeuronalesProfundas\\Proyecto_ClasificacionImagenes\\dataset\"\n",
=======
    "original_dir = r\"C:\\WorkPython\\Ciencia De Datos\\Datos\\ojos_malitos\"\n",
>>>>>>> 317bdefd40d132d2291fb1a202fb3623461a9973
    "\n",
    "# Directorios de destino\n",
    "train_dir = \"dataset/train\"\n",
    "test_dir = \"dataset/test\"\n",
    "\n",
    "# Porcentaje de datos para entrenamiento\n",
    "split_ratio = 0.8\n",
    "\n",
    "# Crear carpetas de train y test si no existen\n",
    "for folder in os.listdir(original_dir):\n",
    "    os.makedirs(os.path.join(train_dir, folder), exist_ok=True)\n",
    "    os.makedirs(os.path.join(test_dir, folder), exist_ok=True)\n",
    "\n",
    "    # Listar imágenes de la carpeta actual\n",
    "    images = os.listdir(os.path.join(original_dir, folder))\n",
    "    random.shuffle(images)\n",
    "\n",
    "    # Dividir imágenes en train y test\n",
    "    split_idx = int(len(images) * split_ratio)\n",
    "    train_images = images[:split_idx]\n",
    "    test_images = images[split_idx:]\n",
    "\n",
    "    # Copiar imágenes a sus respectivas carpetas\n",
    "    for img in train_images:\n",
    "        shutil.copy(os.path.join(original_dir, folder, img), os.path.join(train_dir, folder, img))\n",
    "    \n",
    "    for img in test_images:\n",
    "        shutil.copy(os.path.join(original_dir, folder, img), os.path.join(test_dir, folder, img))\n",
    "\n",
    "print(\"División completada. Train y Test creados en 'dataset/'.\")"
   ]
  },
  {
   "cell_type": "code",
<<<<<<< HEAD
   "execution_count": 2,
=======
   "execution_count": null,
>>>>>>> 317bdefd40d132d2291fb1a202fb3623461a9973
   "metadata": {},
   "outputs": [
    {
     "name": "stdout",
     "output_type": "stream",
     "text": [
      "Found 3372 images belonging to 4 classes.\n",
      "Found 845 images belonging to 4 classes.\n"
     ]
    }
   ],
   "source": [
    "from tensorflow.keras.preprocessing.image import ImageDataGenerator\n",
    "\n",
    "IMG_SIZE = 224  # Tamaño estándar\n",
    "\n",
    "train_datagen = ImageDataGenerator(\n",
    "    rescale=1./255,        # Normaliza los valores entre 0 y 1\n",
    "    rotation_range=20,     # Rota aleatoriamente la imagen\n",
    "    width_shift_range=0.2, # Desplaza la imagen horizontalmente\n",
    "    height_shift_range=0.2,# Desplaza la imagen verticalmente\n",
    "    shear_range=0.2,       # Aplica transformaciones angulares\n",
    "    zoom_range=0.2,        # Hace zoom sobre la imagen\n",
    "    horizontal_flip=True,  # Invierte horizontalmente la imagen\n",
    "    fill_mode='nearest'    \n",
    ")\n",
    "\n",
    "test_datagen = ImageDataGenerator(rescale=1./255)  # Solo normalización para test\n",
    "\n",
    "train_generator = train_datagen.flow_from_directory(\n",
    "    'dataset/train',\n",
    "    target_size=(IMG_SIZE, IMG_SIZE),\n",
    "    batch_size=32,\n",
    "    class_mode='categorical'  # Usamos 'categorical' porque tenemos 4 clases (one-hot encoding)\n",
    ")\n",
    "\n",
    "test_generator = test_datagen.flow_from_directory(\n",
    "    'dataset/test',\n",
    "    target_size=(IMG_SIZE, IMG_SIZE),\n",
    "    batch_size=32,\n",
    "    class_mode='categorical'\n",
    ")"
   ]
  },
  {
   "cell_type": "code",
<<<<<<< HEAD
   "execution_count": 3,
   "metadata": {},
   "outputs": [
    {
     "name": "stderr",
     "output_type": "stream",
     "text": [
      "C:\\Users\\nicol\\AppData\\Roaming\\Python\\Python312\\site-packages\\keras\\src\\layers\\convolutional\\base_conv.py:107: UserWarning: Do not pass an `input_shape`/`input_dim` argument to a layer. When using Sequential models, prefer using an `Input(shape)` object as the first layer in the model instead.\n",
      "  super().__init__(activity_regularizer=activity_regularizer, **kwargs)\n"
     ]
    },
    {
     "data": {
      "text/html": [
       "<pre style=\"white-space:pre;overflow-x:auto;line-height:normal;font-family:Menlo,'DejaVu Sans Mono',consolas,'Courier New',monospace\"><span style=\"font-weight: bold\">Model: \"sequential\"</span>\n",
       "</pre>\n"
      ],
      "text/plain": [
       "\u001b[1mModel: \"sequential\"\u001b[0m\n"
=======
   "execution_count": 8,
   "metadata": {},
   "outputs": [
    {
     "data": {
      "text/html": [
       "<pre style=\"white-space:pre;overflow-x:auto;line-height:normal;font-family:Menlo,'DejaVu Sans Mono',consolas,'Courier New',monospace\"><span style=\"font-weight: bold\">Model: \"sequential_2\"</span>\n",
       "</pre>\n"
      ],
      "text/plain": [
       "\u001b[1mModel: \"sequential_2\"\u001b[0m\n"
>>>>>>> 317bdefd40d132d2291fb1a202fb3623461a9973
      ]
     },
     "metadata": {},
     "output_type": "display_data"
    },
    {
     "data": {
      "text/html": [
       "<pre style=\"white-space:pre;overflow-x:auto;line-height:normal;font-family:Menlo,'DejaVu Sans Mono',consolas,'Courier New',monospace\">┏━━━━━━━━━━━━━━━━━━━━━━━━━━━━━━━━━┳━━━━━━━━━━━━━━━━━━━━━━━━┳━━━━━━━━━━━━━━━┓\n",
       "┃<span style=\"font-weight: bold\"> Layer (type)                    </span>┃<span style=\"font-weight: bold\"> Output Shape           </span>┃<span style=\"font-weight: bold\">       Param # </span>┃\n",
       "┡━━━━━━━━━━━━━━━━━━━━━━━━━━━━━━━━━╇━━━━━━━━━━━━━━━━━━━━━━━━╇━━━━━━━━━━━━━━━┩\n",
<<<<<<< HEAD
       "│ conv2d (<span style=\"color: #0087ff; text-decoration-color: #0087ff\">Conv2D</span>)                 │ (<span style=\"color: #00d7ff; text-decoration-color: #00d7ff\">None</span>, <span style=\"color: #00af00; text-decoration-color: #00af00\">222</span>, <span style=\"color: #00af00; text-decoration-color: #00af00\">222</span>, <span style=\"color: #00af00; text-decoration-color: #00af00\">32</span>)   │           <span style=\"color: #00af00; text-decoration-color: #00af00\">896</span> │\n",
       "├─────────────────────────────────┼────────────────────────┼───────────────┤\n",
       "│ batch_normalization             │ (<span style=\"color: #00d7ff; text-decoration-color: #00d7ff\">None</span>, <span style=\"color: #00af00; text-decoration-color: #00af00\">222</span>, <span style=\"color: #00af00; text-decoration-color: #00af00\">222</span>, <span style=\"color: #00af00; text-decoration-color: #00af00\">32</span>)   │           <span style=\"color: #00af00; text-decoration-color: #00af00\">128</span> │\n",
       "│ (<span style=\"color: #0087ff; text-decoration-color: #0087ff\">BatchNormalization</span>)            │                        │               │\n",
       "├─────────────────────────────────┼────────────────────────┼───────────────┤\n",
       "│ max_pooling2d (<span style=\"color: #0087ff; text-decoration-color: #0087ff\">MaxPooling2D</span>)    │ (<span style=\"color: #00d7ff; text-decoration-color: #00d7ff\">None</span>, <span style=\"color: #00af00; text-decoration-color: #00af00\">111</span>, <span style=\"color: #00af00; text-decoration-color: #00af00\">111</span>, <span style=\"color: #00af00; text-decoration-color: #00af00\">32</span>)   │             <span style=\"color: #00af00; text-decoration-color: #00af00\">0</span> │\n",
       "├─────────────────────────────────┼────────────────────────┼───────────────┤\n",
       "│ conv2d_1 (<span style=\"color: #0087ff; text-decoration-color: #0087ff\">Conv2D</span>)               │ (<span style=\"color: #00d7ff; text-decoration-color: #00d7ff\">None</span>, <span style=\"color: #00af00; text-decoration-color: #00af00\">109</span>, <span style=\"color: #00af00; text-decoration-color: #00af00\">109</span>, <span style=\"color: #00af00; text-decoration-color: #00af00\">64</span>)   │        <span style=\"color: #00af00; text-decoration-color: #00af00\">18,496</span> │\n",
       "├─────────────────────────────────┼────────────────────────┼───────────────┤\n",
       "│ batch_normalization_1           │ (<span style=\"color: #00d7ff; text-decoration-color: #00d7ff\">None</span>, <span style=\"color: #00af00; text-decoration-color: #00af00\">109</span>, <span style=\"color: #00af00; text-decoration-color: #00af00\">109</span>, <span style=\"color: #00af00; text-decoration-color: #00af00\">64</span>)   │           <span style=\"color: #00af00; text-decoration-color: #00af00\">256</span> │\n",
       "│ (<span style=\"color: #0087ff; text-decoration-color: #0087ff\">BatchNormalization</span>)            │                        │               │\n",
       "├─────────────────────────────────┼────────────────────────┼───────────────┤\n",
       "│ max_pooling2d_1 (<span style=\"color: #0087ff; text-decoration-color: #0087ff\">MaxPooling2D</span>)  │ (<span style=\"color: #00d7ff; text-decoration-color: #00d7ff\">None</span>, <span style=\"color: #00af00; text-decoration-color: #00af00\">54</span>, <span style=\"color: #00af00; text-decoration-color: #00af00\">54</span>, <span style=\"color: #00af00; text-decoration-color: #00af00\">64</span>)     │             <span style=\"color: #00af00; text-decoration-color: #00af00\">0</span> │\n",
       "├─────────────────────────────────┼────────────────────────┼───────────────┤\n",
       "│ conv2d_2 (<span style=\"color: #0087ff; text-decoration-color: #0087ff\">Conv2D</span>)               │ (<span style=\"color: #00d7ff; text-decoration-color: #00d7ff\">None</span>, <span style=\"color: #00af00; text-decoration-color: #00af00\">52</span>, <span style=\"color: #00af00; text-decoration-color: #00af00\">52</span>, <span style=\"color: #00af00; text-decoration-color: #00af00\">128</span>)    │        <span style=\"color: #00af00; text-decoration-color: #00af00\">73,856</span> │\n",
       "├─────────────────────────────────┼────────────────────────┼───────────────┤\n",
       "│ batch_normalization_2           │ (<span style=\"color: #00d7ff; text-decoration-color: #00d7ff\">None</span>, <span style=\"color: #00af00; text-decoration-color: #00af00\">52</span>, <span style=\"color: #00af00; text-decoration-color: #00af00\">52</span>, <span style=\"color: #00af00; text-decoration-color: #00af00\">128</span>)    │           <span style=\"color: #00af00; text-decoration-color: #00af00\">512</span> │\n",
       "│ (<span style=\"color: #0087ff; text-decoration-color: #0087ff\">BatchNormalization</span>)            │                        │               │\n",
       "├─────────────────────────────────┼────────────────────────┼───────────────┤\n",
       "│ max_pooling2d_2 (<span style=\"color: #0087ff; text-decoration-color: #0087ff\">MaxPooling2D</span>)  │ (<span style=\"color: #00d7ff; text-decoration-color: #00d7ff\">None</span>, <span style=\"color: #00af00; text-decoration-color: #00af00\">26</span>, <span style=\"color: #00af00; text-decoration-color: #00af00\">26</span>, <span style=\"color: #00af00; text-decoration-color: #00af00\">128</span>)    │             <span style=\"color: #00af00; text-decoration-color: #00af00\">0</span> │\n",
       "├─────────────────────────────────┼────────────────────────┼───────────────┤\n",
       "│ conv2d_3 (<span style=\"color: #0087ff; text-decoration-color: #0087ff\">Conv2D</span>)               │ (<span style=\"color: #00d7ff; text-decoration-color: #00d7ff\">None</span>, <span style=\"color: #00af00; text-decoration-color: #00af00\">24</span>, <span style=\"color: #00af00; text-decoration-color: #00af00\">24</span>, <span style=\"color: #00af00; text-decoration-color: #00af00\">256</span>)    │       <span style=\"color: #00af00; text-decoration-color: #00af00\">295,168</span> │\n",
       "├─────────────────────────────────┼────────────────────────┼───────────────┤\n",
       "│ batch_normalization_3           │ (<span style=\"color: #00d7ff; text-decoration-color: #00d7ff\">None</span>, <span style=\"color: #00af00; text-decoration-color: #00af00\">24</span>, <span style=\"color: #00af00; text-decoration-color: #00af00\">24</span>, <span style=\"color: #00af00; text-decoration-color: #00af00\">256</span>)    │         <span style=\"color: #00af00; text-decoration-color: #00af00\">1,024</span> │\n",
       "│ (<span style=\"color: #0087ff; text-decoration-color: #0087ff\">BatchNormalization</span>)            │                        │               │\n",
       "├─────────────────────────────────┼────────────────────────┼───────────────┤\n",
       "│ max_pooling2d_3 (<span style=\"color: #0087ff; text-decoration-color: #0087ff\">MaxPooling2D</span>)  │ (<span style=\"color: #00d7ff; text-decoration-color: #00d7ff\">None</span>, <span style=\"color: #00af00; text-decoration-color: #00af00\">12</span>, <span style=\"color: #00af00; text-decoration-color: #00af00\">12</span>, <span style=\"color: #00af00; text-decoration-color: #00af00\">256</span>)    │             <span style=\"color: #00af00; text-decoration-color: #00af00\">0</span> │\n",
       "├─────────────────────────────────┼────────────────────────┼───────────────┤\n",
       "│ flatten (<span style=\"color: #0087ff; text-decoration-color: #0087ff\">Flatten</span>)               │ (<span style=\"color: #00d7ff; text-decoration-color: #00d7ff\">None</span>, <span style=\"color: #00af00; text-decoration-color: #00af00\">36864</span>)          │             <span style=\"color: #00af00; text-decoration-color: #00af00\">0</span> │\n",
       "├─────────────────────────────────┼────────────────────────┼───────────────┤\n",
       "│ dense (<span style=\"color: #0087ff; text-decoration-color: #0087ff\">Dense</span>)                   │ (<span style=\"color: #00d7ff; text-decoration-color: #00d7ff\">None</span>, <span style=\"color: #00af00; text-decoration-color: #00af00\">128</span>)            │     <span style=\"color: #00af00; text-decoration-color: #00af00\">4,718,720</span> │\n",
       "├─────────────────────────────────┼────────────────────────┼───────────────┤\n",
       "│ batch_normalization_4           │ (<span style=\"color: #00d7ff; text-decoration-color: #00d7ff\">None</span>, <span style=\"color: #00af00; text-decoration-color: #00af00\">128</span>)            │           <span style=\"color: #00af00; text-decoration-color: #00af00\">512</span> │\n",
       "│ (<span style=\"color: #0087ff; text-decoration-color: #0087ff\">BatchNormalization</span>)            │                        │               │\n",
       "├─────────────────────────────────┼────────────────────────┼───────────────┤\n",
       "│ dropout (<span style=\"color: #0087ff; text-decoration-color: #0087ff\">Dropout</span>)               │ (<span style=\"color: #00d7ff; text-decoration-color: #00d7ff\">None</span>, <span style=\"color: #00af00; text-decoration-color: #00af00\">128</span>)            │             <span style=\"color: #00af00; text-decoration-color: #00af00\">0</span> │\n",
       "├─────────────────────────────────┼────────────────────────┼───────────────┤\n",
       "│ dense_1 (<span style=\"color: #0087ff; text-decoration-color: #0087ff\">Dense</span>)                 │ (<span style=\"color: #00d7ff; text-decoration-color: #00d7ff\">None</span>, <span style=\"color: #00af00; text-decoration-color: #00af00\">64</span>)             │         <span style=\"color: #00af00; text-decoration-color: #00af00\">8,256</span> │\n",
       "├─────────────────────────────────┼────────────────────────┼───────────────┤\n",
       "│ batch_normalization_5           │ (<span style=\"color: #00d7ff; text-decoration-color: #00d7ff\">None</span>, <span style=\"color: #00af00; text-decoration-color: #00af00\">64</span>)             │           <span style=\"color: #00af00; text-decoration-color: #00af00\">256</span> │\n",
       "│ (<span style=\"color: #0087ff; text-decoration-color: #0087ff\">BatchNormalization</span>)            │                        │               │\n",
       "├─────────────────────────────────┼────────────────────────┼───────────────┤\n",
       "│ dropout_1 (<span style=\"color: #0087ff; text-decoration-color: #0087ff\">Dropout</span>)             │ (<span style=\"color: #00d7ff; text-decoration-color: #00d7ff\">None</span>, <span style=\"color: #00af00; text-decoration-color: #00af00\">64</span>)             │             <span style=\"color: #00af00; text-decoration-color: #00af00\">0</span> │\n",
       "├─────────────────────────────────┼────────────────────────┼───────────────┤\n",
       "│ dense_2 (<span style=\"color: #0087ff; text-decoration-color: #0087ff\">Dense</span>)                 │ (<span style=\"color: #00d7ff; text-decoration-color: #00d7ff\">None</span>, <span style=\"color: #00af00; text-decoration-color: #00af00\">4</span>)              │           <span style=\"color: #00af00; text-decoration-color: #00af00\">260</span> │\n",
=======
       "│ conv2d_7 (<span style=\"color: #0087ff; text-decoration-color: #0087ff\">Conv2D</span>)               │ (<span style=\"color: #00d7ff; text-decoration-color: #00d7ff\">None</span>, <span style=\"color: #00af00; text-decoration-color: #00af00\">222</span>, <span style=\"color: #00af00; text-decoration-color: #00af00\">222</span>, <span style=\"color: #00af00; text-decoration-color: #00af00\">32</span>)   │           <span style=\"color: #00af00; text-decoration-color: #00af00\">896</span> │\n",
       "├─────────────────────────────────┼────────────────────────┼───────────────┤\n",
       "│ batch_normalization_9           │ (<span style=\"color: #00d7ff; text-decoration-color: #00d7ff\">None</span>, <span style=\"color: #00af00; text-decoration-color: #00af00\">222</span>, <span style=\"color: #00af00; text-decoration-color: #00af00\">222</span>, <span style=\"color: #00af00; text-decoration-color: #00af00\">32</span>)   │           <span style=\"color: #00af00; text-decoration-color: #00af00\">128</span> │\n",
       "│ (<span style=\"color: #0087ff; text-decoration-color: #0087ff\">BatchNormalization</span>)            │                        │               │\n",
       "├─────────────────────────────────┼────────────────────────┼───────────────┤\n",
       "│ max_pooling2d_7 (<span style=\"color: #0087ff; text-decoration-color: #0087ff\">MaxPooling2D</span>)  │ (<span style=\"color: #00d7ff; text-decoration-color: #00d7ff\">None</span>, <span style=\"color: #00af00; text-decoration-color: #00af00\">111</span>, <span style=\"color: #00af00; text-decoration-color: #00af00\">111</span>, <span style=\"color: #00af00; text-decoration-color: #00af00\">32</span>)   │             <span style=\"color: #00af00; text-decoration-color: #00af00\">0</span> │\n",
       "├─────────────────────────────────┼────────────────────────┼───────────────┤\n",
       "│ conv2d_8 (<span style=\"color: #0087ff; text-decoration-color: #0087ff\">Conv2D</span>)               │ (<span style=\"color: #00d7ff; text-decoration-color: #00d7ff\">None</span>, <span style=\"color: #00af00; text-decoration-color: #00af00\">109</span>, <span style=\"color: #00af00; text-decoration-color: #00af00\">109</span>, <span style=\"color: #00af00; text-decoration-color: #00af00\">64</span>)   │        <span style=\"color: #00af00; text-decoration-color: #00af00\">18,496</span> │\n",
       "├─────────────────────────────────┼────────────────────────┼───────────────┤\n",
       "│ batch_normalization_10          │ (<span style=\"color: #00d7ff; text-decoration-color: #00d7ff\">None</span>, <span style=\"color: #00af00; text-decoration-color: #00af00\">109</span>, <span style=\"color: #00af00; text-decoration-color: #00af00\">109</span>, <span style=\"color: #00af00; text-decoration-color: #00af00\">64</span>)   │           <span style=\"color: #00af00; text-decoration-color: #00af00\">256</span> │\n",
       "│ (<span style=\"color: #0087ff; text-decoration-color: #0087ff\">BatchNormalization</span>)            │                        │               │\n",
       "├─────────────────────────────────┼────────────────────────┼───────────────┤\n",
       "│ max_pooling2d_8 (<span style=\"color: #0087ff; text-decoration-color: #0087ff\">MaxPooling2D</span>)  │ (<span style=\"color: #00d7ff; text-decoration-color: #00d7ff\">None</span>, <span style=\"color: #00af00; text-decoration-color: #00af00\">54</span>, <span style=\"color: #00af00; text-decoration-color: #00af00\">54</span>, <span style=\"color: #00af00; text-decoration-color: #00af00\">64</span>)     │             <span style=\"color: #00af00; text-decoration-color: #00af00\">0</span> │\n",
       "├─────────────────────────────────┼────────────────────────┼───────────────┤\n",
       "│ conv2d_9 (<span style=\"color: #0087ff; text-decoration-color: #0087ff\">Conv2D</span>)               │ (<span style=\"color: #00d7ff; text-decoration-color: #00d7ff\">None</span>, <span style=\"color: #00af00; text-decoration-color: #00af00\">52</span>, <span style=\"color: #00af00; text-decoration-color: #00af00\">52</span>, <span style=\"color: #00af00; text-decoration-color: #00af00\">128</span>)    │        <span style=\"color: #00af00; text-decoration-color: #00af00\">73,856</span> │\n",
       "├─────────────────────────────────┼────────────────────────┼───────────────┤\n",
       "│ batch_normalization_11          │ (<span style=\"color: #00d7ff; text-decoration-color: #00d7ff\">None</span>, <span style=\"color: #00af00; text-decoration-color: #00af00\">52</span>, <span style=\"color: #00af00; text-decoration-color: #00af00\">52</span>, <span style=\"color: #00af00; text-decoration-color: #00af00\">128</span>)    │           <span style=\"color: #00af00; text-decoration-color: #00af00\">512</span> │\n",
       "│ (<span style=\"color: #0087ff; text-decoration-color: #0087ff\">BatchNormalization</span>)            │                        │               │\n",
       "├─────────────────────────────────┼────────────────────────┼───────────────┤\n",
       "│ max_pooling2d_9 (<span style=\"color: #0087ff; text-decoration-color: #0087ff\">MaxPooling2D</span>)  │ (<span style=\"color: #00d7ff; text-decoration-color: #00d7ff\">None</span>, <span style=\"color: #00af00; text-decoration-color: #00af00\">26</span>, <span style=\"color: #00af00; text-decoration-color: #00af00\">26</span>, <span style=\"color: #00af00; text-decoration-color: #00af00\">128</span>)    │             <span style=\"color: #00af00; text-decoration-color: #00af00\">0</span> │\n",
       "├─────────────────────────────────┼────────────────────────┼───────────────┤\n",
       "│ conv2d_10 (<span style=\"color: #0087ff; text-decoration-color: #0087ff\">Conv2D</span>)              │ (<span style=\"color: #00d7ff; text-decoration-color: #00d7ff\">None</span>, <span style=\"color: #00af00; text-decoration-color: #00af00\">24</span>, <span style=\"color: #00af00; text-decoration-color: #00af00\">24</span>, <span style=\"color: #00af00; text-decoration-color: #00af00\">256</span>)    │       <span style=\"color: #00af00; text-decoration-color: #00af00\">295,168</span> │\n",
       "├─────────────────────────────────┼────────────────────────┼───────────────┤\n",
       "│ batch_normalization_12          │ (<span style=\"color: #00d7ff; text-decoration-color: #00d7ff\">None</span>, <span style=\"color: #00af00; text-decoration-color: #00af00\">24</span>, <span style=\"color: #00af00; text-decoration-color: #00af00\">24</span>, <span style=\"color: #00af00; text-decoration-color: #00af00\">256</span>)    │         <span style=\"color: #00af00; text-decoration-color: #00af00\">1,024</span> │\n",
       "│ (<span style=\"color: #0087ff; text-decoration-color: #0087ff\">BatchNormalization</span>)            │                        │               │\n",
       "├─────────────────────────────────┼────────────────────────┼───────────────┤\n",
       "│ max_pooling2d_10 (<span style=\"color: #0087ff; text-decoration-color: #0087ff\">MaxPooling2D</span>) │ (<span style=\"color: #00d7ff; text-decoration-color: #00d7ff\">None</span>, <span style=\"color: #00af00; text-decoration-color: #00af00\">12</span>, <span style=\"color: #00af00; text-decoration-color: #00af00\">12</span>, <span style=\"color: #00af00; text-decoration-color: #00af00\">256</span>)    │             <span style=\"color: #00af00; text-decoration-color: #00af00\">0</span> │\n",
       "├─────────────────────────────────┼────────────────────────┼───────────────┤\n",
       "│ flatten_2 (<span style=\"color: #0087ff; text-decoration-color: #0087ff\">Flatten</span>)             │ (<span style=\"color: #00d7ff; text-decoration-color: #00d7ff\">None</span>, <span style=\"color: #00af00; text-decoration-color: #00af00\">36864</span>)          │             <span style=\"color: #00af00; text-decoration-color: #00af00\">0</span> │\n",
       "├─────────────────────────────────┼────────────────────────┼───────────────┤\n",
       "│ dense_6 (<span style=\"color: #0087ff; text-decoration-color: #0087ff\">Dense</span>)                 │ (<span style=\"color: #00d7ff; text-decoration-color: #00d7ff\">None</span>, <span style=\"color: #00af00; text-decoration-color: #00af00\">128</span>)            │     <span style=\"color: #00af00; text-decoration-color: #00af00\">4,718,720</span> │\n",
       "├─────────────────────────────────┼────────────────────────┼───────────────┤\n",
       "│ batch_normalization_13          │ (<span style=\"color: #00d7ff; text-decoration-color: #00d7ff\">None</span>, <span style=\"color: #00af00; text-decoration-color: #00af00\">128</span>)            │           <span style=\"color: #00af00; text-decoration-color: #00af00\">512</span> │\n",
       "│ (<span style=\"color: #0087ff; text-decoration-color: #0087ff\">BatchNormalization</span>)            │                        │               │\n",
       "├─────────────────────────────────┼────────────────────────┼───────────────┤\n",
       "│ dropout_3 (<span style=\"color: #0087ff; text-decoration-color: #0087ff\">Dropout</span>)             │ (<span style=\"color: #00d7ff; text-decoration-color: #00d7ff\">None</span>, <span style=\"color: #00af00; text-decoration-color: #00af00\">128</span>)            │             <span style=\"color: #00af00; text-decoration-color: #00af00\">0</span> │\n",
       "├─────────────────────────────────┼────────────────────────┼───────────────┤\n",
       "│ dense_7 (<span style=\"color: #0087ff; text-decoration-color: #0087ff\">Dense</span>)                 │ (<span style=\"color: #00d7ff; text-decoration-color: #00d7ff\">None</span>, <span style=\"color: #00af00; text-decoration-color: #00af00\">64</span>)             │         <span style=\"color: #00af00; text-decoration-color: #00af00\">8,256</span> │\n",
       "├─────────────────────────────────┼────────────────────────┼───────────────┤\n",
       "│ batch_normalization_14          │ (<span style=\"color: #00d7ff; text-decoration-color: #00d7ff\">None</span>, <span style=\"color: #00af00; text-decoration-color: #00af00\">64</span>)             │           <span style=\"color: #00af00; text-decoration-color: #00af00\">256</span> │\n",
       "│ (<span style=\"color: #0087ff; text-decoration-color: #0087ff\">BatchNormalization</span>)            │                        │               │\n",
       "├─────────────────────────────────┼────────────────────────┼───────────────┤\n",
       "│ dropout_4 (<span style=\"color: #0087ff; text-decoration-color: #0087ff\">Dropout</span>)             │ (<span style=\"color: #00d7ff; text-decoration-color: #00d7ff\">None</span>, <span style=\"color: #00af00; text-decoration-color: #00af00\">64</span>)             │             <span style=\"color: #00af00; text-decoration-color: #00af00\">0</span> │\n",
       "├─────────────────────────────────┼────────────────────────┼───────────────┤\n",
       "│ dense_8 (<span style=\"color: #0087ff; text-decoration-color: #0087ff\">Dense</span>)                 │ (<span style=\"color: #00d7ff; text-decoration-color: #00d7ff\">None</span>, <span style=\"color: #00af00; text-decoration-color: #00af00\">4</span>)              │           <span style=\"color: #00af00; text-decoration-color: #00af00\">260</span> │\n",
>>>>>>> 317bdefd40d132d2291fb1a202fb3623461a9973
       "└─────────────────────────────────┴────────────────────────┴───────────────┘\n",
       "</pre>\n"
      ],
      "text/plain": [
       "┏━━━━━━━━━━━━━━━━━━━━━━━━━━━━━━━━━┳━━━━━━━━━━━━━━━━━━━━━━━━┳━━━━━━━━━━━━━━━┓\n",
       "┃\u001b[1m \u001b[0m\u001b[1mLayer (type)                   \u001b[0m\u001b[1m \u001b[0m┃\u001b[1m \u001b[0m\u001b[1mOutput Shape          \u001b[0m\u001b[1m \u001b[0m┃\u001b[1m \u001b[0m\u001b[1m      Param #\u001b[0m\u001b[1m \u001b[0m┃\n",
       "┡━━━━━━━━━━━━━━━━━━━━━━━━━━━━━━━━━╇━━━━━━━━━━━━━━━━━━━━━━━━╇━━━━━━━━━━━━━━━┩\n",
<<<<<<< HEAD
       "│ conv2d (\u001b[38;5;33mConv2D\u001b[0m)                 │ (\u001b[38;5;45mNone\u001b[0m, \u001b[38;5;34m222\u001b[0m, \u001b[38;5;34m222\u001b[0m, \u001b[38;5;34m32\u001b[0m)   │           \u001b[38;5;34m896\u001b[0m │\n",
       "├─────────────────────────────────┼────────────────────────┼───────────────┤\n",
       "│ batch_normalization             │ (\u001b[38;5;45mNone\u001b[0m, \u001b[38;5;34m222\u001b[0m, \u001b[38;5;34m222\u001b[0m, \u001b[38;5;34m32\u001b[0m)   │           \u001b[38;5;34m128\u001b[0m │\n",
       "│ (\u001b[38;5;33mBatchNormalization\u001b[0m)            │                        │               │\n",
       "├─────────────────────────────────┼────────────────────────┼───────────────┤\n",
       "│ max_pooling2d (\u001b[38;5;33mMaxPooling2D\u001b[0m)    │ (\u001b[38;5;45mNone\u001b[0m, \u001b[38;5;34m111\u001b[0m, \u001b[38;5;34m111\u001b[0m, \u001b[38;5;34m32\u001b[0m)   │             \u001b[38;5;34m0\u001b[0m │\n",
       "├─────────────────────────────────┼────────────────────────┼───────────────┤\n",
       "│ conv2d_1 (\u001b[38;5;33mConv2D\u001b[0m)               │ (\u001b[38;5;45mNone\u001b[0m, \u001b[38;5;34m109\u001b[0m, \u001b[38;5;34m109\u001b[0m, \u001b[38;5;34m64\u001b[0m)   │        \u001b[38;5;34m18,496\u001b[0m │\n",
       "├─────────────────────────────────┼────────────────────────┼───────────────┤\n",
       "│ batch_normalization_1           │ (\u001b[38;5;45mNone\u001b[0m, \u001b[38;5;34m109\u001b[0m, \u001b[38;5;34m109\u001b[0m, \u001b[38;5;34m64\u001b[0m)   │           \u001b[38;5;34m256\u001b[0m │\n",
       "│ (\u001b[38;5;33mBatchNormalization\u001b[0m)            │                        │               │\n",
       "├─────────────────────────────────┼────────────────────────┼───────────────┤\n",
       "│ max_pooling2d_1 (\u001b[38;5;33mMaxPooling2D\u001b[0m)  │ (\u001b[38;5;45mNone\u001b[0m, \u001b[38;5;34m54\u001b[0m, \u001b[38;5;34m54\u001b[0m, \u001b[38;5;34m64\u001b[0m)     │             \u001b[38;5;34m0\u001b[0m │\n",
       "├─────────────────────────────────┼────────────────────────┼───────────────┤\n",
       "│ conv2d_2 (\u001b[38;5;33mConv2D\u001b[0m)               │ (\u001b[38;5;45mNone\u001b[0m, \u001b[38;5;34m52\u001b[0m, \u001b[38;5;34m52\u001b[0m, \u001b[38;5;34m128\u001b[0m)    │        \u001b[38;5;34m73,856\u001b[0m │\n",
       "├─────────────────────────────────┼────────────────────────┼───────────────┤\n",
       "│ batch_normalization_2           │ (\u001b[38;5;45mNone\u001b[0m, \u001b[38;5;34m52\u001b[0m, \u001b[38;5;34m52\u001b[0m, \u001b[38;5;34m128\u001b[0m)    │           \u001b[38;5;34m512\u001b[0m │\n",
       "│ (\u001b[38;5;33mBatchNormalization\u001b[0m)            │                        │               │\n",
       "├─────────────────────────────────┼────────────────────────┼───────────────┤\n",
       "│ max_pooling2d_2 (\u001b[38;5;33mMaxPooling2D\u001b[0m)  │ (\u001b[38;5;45mNone\u001b[0m, \u001b[38;5;34m26\u001b[0m, \u001b[38;5;34m26\u001b[0m, \u001b[38;5;34m128\u001b[0m)    │             \u001b[38;5;34m0\u001b[0m │\n",
       "├─────────────────────────────────┼────────────────────────┼───────────────┤\n",
       "│ conv2d_3 (\u001b[38;5;33mConv2D\u001b[0m)               │ (\u001b[38;5;45mNone\u001b[0m, \u001b[38;5;34m24\u001b[0m, \u001b[38;5;34m24\u001b[0m, \u001b[38;5;34m256\u001b[0m)    │       \u001b[38;5;34m295,168\u001b[0m │\n",
       "├─────────────────────────────────┼────────────────────────┼───────────────┤\n",
       "│ batch_normalization_3           │ (\u001b[38;5;45mNone\u001b[0m, \u001b[38;5;34m24\u001b[0m, \u001b[38;5;34m24\u001b[0m, \u001b[38;5;34m256\u001b[0m)    │         \u001b[38;5;34m1,024\u001b[0m │\n",
       "│ (\u001b[38;5;33mBatchNormalization\u001b[0m)            │                        │               │\n",
       "├─────────────────────────────────┼────────────────────────┼───────────────┤\n",
       "│ max_pooling2d_3 (\u001b[38;5;33mMaxPooling2D\u001b[0m)  │ (\u001b[38;5;45mNone\u001b[0m, \u001b[38;5;34m12\u001b[0m, \u001b[38;5;34m12\u001b[0m, \u001b[38;5;34m256\u001b[0m)    │             \u001b[38;5;34m0\u001b[0m │\n",
       "├─────────────────────────────────┼────────────────────────┼───────────────┤\n",
       "│ flatten (\u001b[38;5;33mFlatten\u001b[0m)               │ (\u001b[38;5;45mNone\u001b[0m, \u001b[38;5;34m36864\u001b[0m)          │             \u001b[38;5;34m0\u001b[0m │\n",
       "├─────────────────────────────────┼────────────────────────┼───────────────┤\n",
       "│ dense (\u001b[38;5;33mDense\u001b[0m)                   │ (\u001b[38;5;45mNone\u001b[0m, \u001b[38;5;34m128\u001b[0m)            │     \u001b[38;5;34m4,718,720\u001b[0m │\n",
       "├─────────────────────────────────┼────────────────────────┼───────────────┤\n",
       "│ batch_normalization_4           │ (\u001b[38;5;45mNone\u001b[0m, \u001b[38;5;34m128\u001b[0m)            │           \u001b[38;5;34m512\u001b[0m │\n",
       "│ (\u001b[38;5;33mBatchNormalization\u001b[0m)            │                        │               │\n",
       "├─────────────────────────────────┼────────────────────────┼───────────────┤\n",
       "│ dropout (\u001b[38;5;33mDropout\u001b[0m)               │ (\u001b[38;5;45mNone\u001b[0m, \u001b[38;5;34m128\u001b[0m)            │             \u001b[38;5;34m0\u001b[0m │\n",
       "├─────────────────────────────────┼────────────────────────┼───────────────┤\n",
       "│ dense_1 (\u001b[38;5;33mDense\u001b[0m)                 │ (\u001b[38;5;45mNone\u001b[0m, \u001b[38;5;34m64\u001b[0m)             │         \u001b[38;5;34m8,256\u001b[0m │\n",
       "├─────────────────────────────────┼────────────────────────┼───────────────┤\n",
       "│ batch_normalization_5           │ (\u001b[38;5;45mNone\u001b[0m, \u001b[38;5;34m64\u001b[0m)             │           \u001b[38;5;34m256\u001b[0m │\n",
       "│ (\u001b[38;5;33mBatchNormalization\u001b[0m)            │                        │               │\n",
       "├─────────────────────────────────┼────────────────────────┼───────────────┤\n",
       "│ dropout_1 (\u001b[38;5;33mDropout\u001b[0m)             │ (\u001b[38;5;45mNone\u001b[0m, \u001b[38;5;34m64\u001b[0m)             │             \u001b[38;5;34m0\u001b[0m │\n",
       "├─────────────────────────────────┼────────────────────────┼───────────────┤\n",
       "│ dense_2 (\u001b[38;5;33mDense\u001b[0m)                 │ (\u001b[38;5;45mNone\u001b[0m, \u001b[38;5;34m4\u001b[0m)              │           \u001b[38;5;34m260\u001b[0m │\n",
=======
       "│ conv2d_7 (\u001b[38;5;33mConv2D\u001b[0m)               │ (\u001b[38;5;45mNone\u001b[0m, \u001b[38;5;34m222\u001b[0m, \u001b[38;5;34m222\u001b[0m, \u001b[38;5;34m32\u001b[0m)   │           \u001b[38;5;34m896\u001b[0m │\n",
       "├─────────────────────────────────┼────────────────────────┼───────────────┤\n",
       "│ batch_normalization_9           │ (\u001b[38;5;45mNone\u001b[0m, \u001b[38;5;34m222\u001b[0m, \u001b[38;5;34m222\u001b[0m, \u001b[38;5;34m32\u001b[0m)   │           \u001b[38;5;34m128\u001b[0m │\n",
       "│ (\u001b[38;5;33mBatchNormalization\u001b[0m)            │                        │               │\n",
       "├─────────────────────────────────┼────────────────────────┼───────────────┤\n",
       "│ max_pooling2d_7 (\u001b[38;5;33mMaxPooling2D\u001b[0m)  │ (\u001b[38;5;45mNone\u001b[0m, \u001b[38;5;34m111\u001b[0m, \u001b[38;5;34m111\u001b[0m, \u001b[38;5;34m32\u001b[0m)   │             \u001b[38;5;34m0\u001b[0m │\n",
       "├─────────────────────────────────┼────────────────────────┼───────────────┤\n",
       "│ conv2d_8 (\u001b[38;5;33mConv2D\u001b[0m)               │ (\u001b[38;5;45mNone\u001b[0m, \u001b[38;5;34m109\u001b[0m, \u001b[38;5;34m109\u001b[0m, \u001b[38;5;34m64\u001b[0m)   │        \u001b[38;5;34m18,496\u001b[0m │\n",
       "├─────────────────────────────────┼────────────────────────┼───────────────┤\n",
       "│ batch_normalization_10          │ (\u001b[38;5;45mNone\u001b[0m, \u001b[38;5;34m109\u001b[0m, \u001b[38;5;34m109\u001b[0m, \u001b[38;5;34m64\u001b[0m)   │           \u001b[38;5;34m256\u001b[0m │\n",
       "│ (\u001b[38;5;33mBatchNormalization\u001b[0m)            │                        │               │\n",
       "├─────────────────────────────────┼────────────────────────┼───────────────┤\n",
       "│ max_pooling2d_8 (\u001b[38;5;33mMaxPooling2D\u001b[0m)  │ (\u001b[38;5;45mNone\u001b[0m, \u001b[38;5;34m54\u001b[0m, \u001b[38;5;34m54\u001b[0m, \u001b[38;5;34m64\u001b[0m)     │             \u001b[38;5;34m0\u001b[0m │\n",
       "├─────────────────────────────────┼────────────────────────┼───────────────┤\n",
       "│ conv2d_9 (\u001b[38;5;33mConv2D\u001b[0m)               │ (\u001b[38;5;45mNone\u001b[0m, \u001b[38;5;34m52\u001b[0m, \u001b[38;5;34m52\u001b[0m, \u001b[38;5;34m128\u001b[0m)    │        \u001b[38;5;34m73,856\u001b[0m │\n",
       "├─────────────────────────────────┼────────────────────────┼───────────────┤\n",
       "│ batch_normalization_11          │ (\u001b[38;5;45mNone\u001b[0m, \u001b[38;5;34m52\u001b[0m, \u001b[38;5;34m52\u001b[0m, \u001b[38;5;34m128\u001b[0m)    │           \u001b[38;5;34m512\u001b[0m │\n",
       "│ (\u001b[38;5;33mBatchNormalization\u001b[0m)            │                        │               │\n",
       "├─────────────────────────────────┼────────────────────────┼───────────────┤\n",
       "│ max_pooling2d_9 (\u001b[38;5;33mMaxPooling2D\u001b[0m)  │ (\u001b[38;5;45mNone\u001b[0m, \u001b[38;5;34m26\u001b[0m, \u001b[38;5;34m26\u001b[0m, \u001b[38;5;34m128\u001b[0m)    │             \u001b[38;5;34m0\u001b[0m │\n",
       "├─────────────────────────────────┼────────────────────────┼───────────────┤\n",
       "│ conv2d_10 (\u001b[38;5;33mConv2D\u001b[0m)              │ (\u001b[38;5;45mNone\u001b[0m, \u001b[38;5;34m24\u001b[0m, \u001b[38;5;34m24\u001b[0m, \u001b[38;5;34m256\u001b[0m)    │       \u001b[38;5;34m295,168\u001b[0m │\n",
       "├─────────────────────────────────┼────────────────────────┼───────────────┤\n",
       "│ batch_normalization_12          │ (\u001b[38;5;45mNone\u001b[0m, \u001b[38;5;34m24\u001b[0m, \u001b[38;5;34m24\u001b[0m, \u001b[38;5;34m256\u001b[0m)    │         \u001b[38;5;34m1,024\u001b[0m │\n",
       "│ (\u001b[38;5;33mBatchNormalization\u001b[0m)            │                        │               │\n",
       "├─────────────────────────────────┼────────────────────────┼───────────────┤\n",
       "│ max_pooling2d_10 (\u001b[38;5;33mMaxPooling2D\u001b[0m) │ (\u001b[38;5;45mNone\u001b[0m, \u001b[38;5;34m12\u001b[0m, \u001b[38;5;34m12\u001b[0m, \u001b[38;5;34m256\u001b[0m)    │             \u001b[38;5;34m0\u001b[0m │\n",
       "├─────────────────────────────────┼────────────────────────┼───────────────┤\n",
       "│ flatten_2 (\u001b[38;5;33mFlatten\u001b[0m)             │ (\u001b[38;5;45mNone\u001b[0m, \u001b[38;5;34m36864\u001b[0m)          │             \u001b[38;5;34m0\u001b[0m │\n",
       "├─────────────────────────────────┼────────────────────────┼───────────────┤\n",
       "│ dense_6 (\u001b[38;5;33mDense\u001b[0m)                 │ (\u001b[38;5;45mNone\u001b[0m, \u001b[38;5;34m128\u001b[0m)            │     \u001b[38;5;34m4,718,720\u001b[0m │\n",
       "├─────────────────────────────────┼────────────────────────┼───────────────┤\n",
       "│ batch_normalization_13          │ (\u001b[38;5;45mNone\u001b[0m, \u001b[38;5;34m128\u001b[0m)            │           \u001b[38;5;34m512\u001b[0m │\n",
       "│ (\u001b[38;5;33mBatchNormalization\u001b[0m)            │                        │               │\n",
       "├─────────────────────────────────┼────────────────────────┼───────────────┤\n",
       "│ dropout_3 (\u001b[38;5;33mDropout\u001b[0m)             │ (\u001b[38;5;45mNone\u001b[0m, \u001b[38;5;34m128\u001b[0m)            │             \u001b[38;5;34m0\u001b[0m │\n",
       "├─────────────────────────────────┼────────────────────────┼───────────────┤\n",
       "│ dense_7 (\u001b[38;5;33mDense\u001b[0m)                 │ (\u001b[38;5;45mNone\u001b[0m, \u001b[38;5;34m64\u001b[0m)             │         \u001b[38;5;34m8,256\u001b[0m │\n",
       "├─────────────────────────────────┼────────────────────────┼───────────────┤\n",
       "│ batch_normalization_14          │ (\u001b[38;5;45mNone\u001b[0m, \u001b[38;5;34m64\u001b[0m)             │           \u001b[38;5;34m256\u001b[0m │\n",
       "│ (\u001b[38;5;33mBatchNormalization\u001b[0m)            │                        │               │\n",
       "├─────────────────────────────────┼────────────────────────┼───────────────┤\n",
       "│ dropout_4 (\u001b[38;5;33mDropout\u001b[0m)             │ (\u001b[38;5;45mNone\u001b[0m, \u001b[38;5;34m64\u001b[0m)             │             \u001b[38;5;34m0\u001b[0m │\n",
       "├─────────────────────────────────┼────────────────────────┼───────────────┤\n",
       "│ dense_8 (\u001b[38;5;33mDense\u001b[0m)                 │ (\u001b[38;5;45mNone\u001b[0m, \u001b[38;5;34m4\u001b[0m)              │           \u001b[38;5;34m260\u001b[0m │\n",
>>>>>>> 317bdefd40d132d2291fb1a202fb3623461a9973
       "└─────────────────────────────────┴────────────────────────┴───────────────┘\n"
      ]
     },
     "metadata": {},
     "output_type": "display_data"
    },
    {
     "data": {
      "text/html": [
       "<pre style=\"white-space:pre;overflow-x:auto;line-height:normal;font-family:Menlo,'DejaVu Sans Mono',consolas,'Courier New',monospace\"><span style=\"font-weight: bold\"> Total params: </span><span style=\"color: #00af00; text-decoration-color: #00af00\">5,118,340</span> (19.52 MB)\n",
       "</pre>\n"
      ],
      "text/plain": [
       "\u001b[1m Total params: \u001b[0m\u001b[38;5;34m5,118,340\u001b[0m (19.52 MB)\n"
      ]
     },
     "metadata": {},
     "output_type": "display_data"
    },
    {
     "data": {
      "text/html": [
       "<pre style=\"white-space:pre;overflow-x:auto;line-height:normal;font-family:Menlo,'DejaVu Sans Mono',consolas,'Courier New',monospace\"><span style=\"font-weight: bold\"> Trainable params: </span><span style=\"color: #00af00; text-decoration-color: #00af00\">5,116,996</span> (19.52 MB)\n",
       "</pre>\n"
      ],
      "text/plain": [
       "\u001b[1m Trainable params: \u001b[0m\u001b[38;5;34m5,116,996\u001b[0m (19.52 MB)\n"
      ]
     },
     "metadata": {},
     "output_type": "display_data"
    },
    {
     "data": {
      "text/html": [
       "<pre style=\"white-space:pre;overflow-x:auto;line-height:normal;font-family:Menlo,'DejaVu Sans Mono',consolas,'Courier New',monospace\"><span style=\"font-weight: bold\"> Non-trainable params: </span><span style=\"color: #00af00; text-decoration-color: #00af00\">1,344</span> (5.25 KB)\n",
       "</pre>\n"
      ],
      "text/plain": [
       "\u001b[1m Non-trainable params: \u001b[0m\u001b[38;5;34m1,344\u001b[0m (5.25 KB)\n"
      ]
     },
     "metadata": {},
     "output_type": "display_data"
    }
   ],
   "source": [
    "from tensorflow.keras.models import Sequential\n",
    "from tensorflow.keras.layers import Conv2D, MaxPooling2D, Flatten, Dense, Dropout, BatchNormalization\n",
    "\n",
    "model = Sequential([\n",
    "    Conv2D(32, (3,3), activation='relu', input_shape=(IMG_SIZE, IMG_SIZE, 3)),\n",
    "    BatchNormalization(),\n",
    "    MaxPooling2D(2,2),\n",
    "\n",
    "    Conv2D(64, (3,3), activation='relu'),\n",
    "    BatchNormalization(),\n",
    "    MaxPooling2D(2,2),\n",
    "\n",
    "    Conv2D(128, (3,3), activation='relu'),\n",
    "    BatchNormalization(),\n",
    "    MaxPooling2D(2,2),\n",
    "\n",
    "    Conv2D(256, (3,3), activation='relu'),\n",
    "    BatchNormalization(),\n",
    "    MaxPooling2D(2,2),\n",
    "\n",
    "    Flatten(),\n",
    "\n",
    "    Dense(128, activation='relu'),\n",
    "    BatchNormalization(),\n",
    "    Dropout(0.5),  # Reduce sobreajuste\n",
    "    Dense(64, activation='relu'),\n",
    "    BatchNormalization(),\n",
    "    Dropout(0.5),  # Reduce sobreajuste\n",
    "    Dense(4, activation='softmax')  # 4 clases → Softmax\n",
    "])\n",
    "\n",
    "# Compilación\n",
    "model.compile(optimizer='RMSProp', loss='categorical_crossentropy', metrics=['categorical_accuracy'])\n",
    "model.summary()"
   ]
  },
  {
   "cell_type": "code",
<<<<<<< HEAD
   "execution_count": 4,
   "metadata": {},
   "outputs": [
    {
     "name": "stderr",
     "output_type": "stream",
     "text": [
      "C:\\Users\\nicol\\AppData\\Roaming\\Python\\Python312\\site-packages\\keras\\src\\trainers\\data_adapters\\py_dataset_adapter.py:121: UserWarning: Your `PyDataset` class should call `super().__init__(**kwargs)` in its constructor. `**kwargs` can include `workers`, `use_multiprocessing`, `max_queue_size`. Do not pass these arguments to `fit()`, as they will be ignored.\n",
      "  self._warn_if_super_not_called()\n"
     ]
    },
    {
     "name": "stdout",
     "output_type": "stream",
     "text": [
      "Epoch 1/40\n",
      "\u001b[1m106/106\u001b[0m \u001b[32m━━━━━━━━━━━━━━━━━━━━\u001b[0m\u001b[37m\u001b[0m \u001b[1m272s\u001b[0m 3s/step - categorical_accuracy: 0.3427 - loss: 2.0445 - val_categorical_accuracy: 0.2604 - val_loss: 3.5174\n",
      "Epoch 2/40\n",
      "\u001b[1m106/106\u001b[0m \u001b[32m━━━━━━━━━━━━━━━━━━━━\u001b[0m\u001b[37m\u001b[0m \u001b[1m235s\u001b[0m 2s/step - categorical_accuracy: 0.3766 - loss: 1.6399 - val_categorical_accuracy: 0.2604 - val_loss: 2.8493\n",
      "Epoch 3/40\n",
      "\u001b[1m106/106\u001b[0m \u001b[32m━━━━━━━━━━━━━━━━━━━━\u001b[0m\u001b[37m\u001b[0m \u001b[1m219s\u001b[0m 2s/step - categorical_accuracy: 0.4395 - loss: 1.3401 - val_categorical_accuracy: 0.2604 - val_loss: 5.5833\n",
      "Epoch 4/40\n",
      "\u001b[1m106/106\u001b[0m \u001b[32m━━━━━━━━━━━━━━━━━━━━\u001b[0m\u001b[37m\u001b[0m \u001b[1m219s\u001b[0m 2s/step - categorical_accuracy: 0.5174 - loss: 1.1140 - val_categorical_accuracy: 0.2757 - val_loss: 3.1399\n",
      "Epoch 5/40\n",
      "\u001b[1m106/106\u001b[0m \u001b[32m━━━━━━━━━━━━━━━━━━━━\u001b[0m\u001b[37m\u001b[0m \u001b[1m218s\u001b[0m 2s/step - categorical_accuracy: 0.5807 - loss: 0.9962 - val_categorical_accuracy: 0.2757 - val_loss: 1.9283\n",
      "Epoch 6/40\n",
      "\u001b[1m106/106\u001b[0m \u001b[32m━━━━━━━━━━━━━━━━━━━━\u001b[0m\u001b[37m\u001b[0m \u001b[1m218s\u001b[0m 2s/step - categorical_accuracy: 0.6207 - loss: 0.9238 - val_categorical_accuracy: 0.4000 - val_loss: 2.2082\n",
      "Epoch 7/40\n",
      "\u001b[1m106/106\u001b[0m \u001b[32m━━━━━━━━━━━━━━━━━━━━\u001b[0m\u001b[37m\u001b[0m \u001b[1m218s\u001b[0m 2s/step - categorical_accuracy: 0.6271 - loss: 0.9051 - val_categorical_accuracy: 0.6686 - val_loss: 0.7812\n",
      "Epoch 8/40\n",
      "\u001b[1m106/106\u001b[0m \u001b[32m━━━━━━━━━━━━━━━━━━━━\u001b[0m\u001b[37m\u001b[0m \u001b[1m217s\u001b[0m 2s/step - categorical_accuracy: 0.6567 - loss: 0.8446 - val_categorical_accuracy: 0.5207 - val_loss: 1.3976\n",
      "Epoch 9/40\n",
      "\u001b[1m106/106\u001b[0m \u001b[32m━━━━━━━━━━━━━━━━━━━━\u001b[0m\u001b[37m\u001b[0m \u001b[1m219s\u001b[0m 2s/step - categorical_accuracy: 0.6880 - loss: 0.8033 - val_categorical_accuracy: 0.6178 - val_loss: 0.9989\n",
      "Epoch 10/40\n",
      "\u001b[1m106/106\u001b[0m \u001b[32m━━━━━━━━━━━━━━━━━━━━\u001b[0m\u001b[37m\u001b[0m \u001b[1m218s\u001b[0m 2s/step - categorical_accuracy: 0.6922 - loss: 0.7885 - val_categorical_accuracy: 0.6331 - val_loss: 1.0535\n",
      "Epoch 11/40\n",
      "\u001b[1m106/106\u001b[0m \u001b[32m━━━━━━━━━━━━━━━━━━━━\u001b[0m\u001b[37m\u001b[0m \u001b[1m221s\u001b[0m 2s/step - categorical_accuracy: 0.7068 - loss: 0.7488 - val_categorical_accuracy: 0.5302 - val_loss: 1.1691\n",
      "Epoch 12/40\n",
      "\u001b[1m106/106\u001b[0m \u001b[32m━━━━━━━━━━━━━━━━━━━━\u001b[0m\u001b[37m\u001b[0m \u001b[1m217s\u001b[0m 2s/step - categorical_accuracy: 0.7282 - loss: 0.6839 - val_categorical_accuracy: 0.7172 - val_loss: 0.7666\n",
      "Epoch 13/40\n",
      "\u001b[1m106/106\u001b[0m \u001b[32m━━━━━━━━━━━━━━━━━━━━\u001b[0m\u001b[37m\u001b[0m \u001b[1m217s\u001b[0m 2s/step - categorical_accuracy: 0.7167 - loss: 0.7321 - val_categorical_accuracy: 0.7124 - val_loss: 0.7303\n",
      "Epoch 14/40\n",
      "\u001b[1m106/106\u001b[0m \u001b[32m━━━━━━━━━━━━━━━━━━━━\u001b[0m\u001b[37m\u001b[0m \u001b[1m217s\u001b[0m 2s/step - categorical_accuracy: 0.7334 - loss: 0.6618 - val_categorical_accuracy: 0.5550 - val_loss: 0.9765\n",
      "Epoch 15/40\n",
      "\u001b[1m106/106\u001b[0m \u001b[32m━━━━━━━━━━━━━━━━━━━━\u001b[0m\u001b[37m\u001b[0m \u001b[1m218s\u001b[0m 2s/step - categorical_accuracy: 0.7416 - loss: 0.6801 - val_categorical_accuracy: 0.6012 - val_loss: 0.9544\n",
      "Epoch 16/40\n",
      "\u001b[1m106/106\u001b[0m \u001b[32m━━━━━━━━━━━━━━━━━━━━\u001b[0m\u001b[37m\u001b[0m \u001b[1m219s\u001b[0m 2s/step - categorical_accuracy: 0.7295 - loss: 0.6854 - val_categorical_accuracy: 0.7361 - val_loss: 0.7305\n",
      "Epoch 17/40\n",
      "\u001b[1m106/106\u001b[0m \u001b[32m━━━━━━━━━━━━━━━━━━━━\u001b[0m\u001b[37m\u001b[0m \u001b[1m221s\u001b[0m 2s/step - categorical_accuracy: 0.7522 - loss: 0.6259 - val_categorical_accuracy: 0.6781 - val_loss: 0.7928\n",
      "Epoch 18/40\n",
      "\u001b[1m106/106\u001b[0m \u001b[32m━━━━━━━━━━━━━━━━━━━━\u001b[0m\u001b[37m\u001b[0m \u001b[1m217s\u001b[0m 2s/step - categorical_accuracy: 0.7297 - loss: 0.6755 - val_categorical_accuracy: 0.7325 - val_loss: 0.6526\n",
      "Epoch 19/40\n",
      "\u001b[1m106/106\u001b[0m \u001b[32m━━━━━━━━━━━━━━━━━━━━\u001b[0m\u001b[37m\u001b[0m \u001b[1m217s\u001b[0m 2s/step - categorical_accuracy: 0.7681 - loss: 0.6003 - val_categorical_accuracy: 0.7408 - val_loss: 0.6811\n",
      "Epoch 20/40\n",
      "\u001b[1m106/106\u001b[0m \u001b[32m━━━━━━━━━━━━━━━━━━━━\u001b[0m\u001b[37m\u001b[0m \u001b[1m215s\u001b[0m 2s/step - categorical_accuracy: 0.7675 - loss: 0.5926 - val_categorical_accuracy: 0.6734 - val_loss: 0.8817\n",
      "Epoch 21/40\n",
      "\u001b[1m106/106\u001b[0m \u001b[32m━━━━━━━━━━━━━━━━━━━━\u001b[0m\u001b[37m\u001b[0m \u001b[1m214s\u001b[0m 2s/step - categorical_accuracy: 0.7773 - loss: 0.6197 - val_categorical_accuracy: 0.7574 - val_loss: 0.6130\n",
      "Epoch 22/40\n",
      "\u001b[1m106/106\u001b[0m \u001b[32m━━━━━━━━━━━━━━━━━━━━\u001b[0m\u001b[37m\u001b[0m \u001b[1m216s\u001b[0m 2s/step - categorical_accuracy: 0.7843 - loss: 0.5563 - val_categorical_accuracy: 0.6888 - val_loss: 0.7966\n",
      "Epoch 23/40\n",
      "\u001b[1m106/106\u001b[0m \u001b[32m━━━━━━━━━━━━━━━━━━━━\u001b[0m\u001b[37m\u001b[0m \u001b[1m215s\u001b[0m 2s/step - categorical_accuracy: 0.7881 - loss: 0.5577 - val_categorical_accuracy: 0.5988 - val_loss: 1.1819\n",
      "Epoch 24/40\n",
      "\u001b[1m106/106\u001b[0m \u001b[32m━━━━━━━━━━━━━━━━━━━━\u001b[0m\u001b[37m\u001b[0m \u001b[1m217s\u001b[0m 2s/step - categorical_accuracy: 0.7948 - loss: 0.5520 - val_categorical_accuracy: 0.7562 - val_loss: 0.6074\n",
      "Epoch 25/40\n",
      "\u001b[1m106/106\u001b[0m \u001b[32m━━━━━━━━━━━━━━━━━━━━\u001b[0m\u001b[37m\u001b[0m \u001b[1m216s\u001b[0m 2s/step - categorical_accuracy: 0.7933 - loss: 0.5551 - val_categorical_accuracy: 0.6095 - val_loss: 0.9905\n",
      "Epoch 26/40\n",
      "\u001b[1m106/106\u001b[0m \u001b[32m━━━━━━━━━━━━━━━━━━━━\u001b[0m\u001b[37m\u001b[0m \u001b[1m218s\u001b[0m 2s/step - categorical_accuracy: 0.8006 - loss: 0.5139 - val_categorical_accuracy: 0.7550 - val_loss: 0.7336\n",
      "Epoch 27/40\n",
      "\u001b[1m106/106\u001b[0m \u001b[32m━━━━━━━━━━━━━━━━━━━━\u001b[0m\u001b[37m\u001b[0m \u001b[1m218s\u001b[0m 2s/step - categorical_accuracy: 0.8030 - loss: 0.5364 - val_categorical_accuracy: 0.4580 - val_loss: 1.9741\n",
      "Epoch 28/40\n",
      "\u001b[1m106/106\u001b[0m \u001b[32m━━━━━━━━━━━━━━━━━━━━\u001b[0m\u001b[37m\u001b[0m \u001b[1m219s\u001b[0m 2s/step - categorical_accuracy: 0.8025 - loss: 0.5247 - val_categorical_accuracy: 0.7834 - val_loss: 0.5478\n",
      "Epoch 29/40\n",
      "\u001b[1m106/106\u001b[0m \u001b[32m━━━━━━━━━━━━━━━━━━━━\u001b[0m\u001b[37m\u001b[0m \u001b[1m218s\u001b[0m 2s/step - categorical_accuracy: 0.8067 - loss: 0.5120 - val_categorical_accuracy: 0.7621 - val_loss: 0.6499\n",
      "Epoch 30/40\n",
      "\u001b[1m106/106\u001b[0m \u001b[32m━━━━━━━━━━━━━━━━━━━━\u001b[0m\u001b[37m\u001b[0m \u001b[1m218s\u001b[0m 2s/step - categorical_accuracy: 0.8077 - loss: 0.5314 - val_categorical_accuracy: 0.7728 - val_loss: 0.6230\n",
      "Epoch 31/40\n",
      "\u001b[1m106/106\u001b[0m \u001b[32m━━━━━━━━━━━━━━━━━━━━\u001b[0m\u001b[37m\u001b[0m \u001b[1m219s\u001b[0m 2s/step - categorical_accuracy: 0.8191 - loss: 0.5117 - val_categorical_accuracy: 0.7988 - val_loss: 0.5281\n",
      "Epoch 32/40\n",
      "\u001b[1m106/106\u001b[0m \u001b[32m━━━━━━━━━━━━━━━━━━━━\u001b[0m\u001b[37m\u001b[0m \u001b[1m218s\u001b[0m 2s/step - categorical_accuracy: 0.8109 - loss: 0.4993 - val_categorical_accuracy: 0.6331 - val_loss: 1.1915\n",
      "Epoch 33/40\n",
      "\u001b[1m106/106\u001b[0m \u001b[32m━━━━━━━━━━━━━━━━━━━━\u001b[0m\u001b[37m\u001b[0m \u001b[1m218s\u001b[0m 2s/step - categorical_accuracy: 0.8165 - loss: 0.5063 - val_categorical_accuracy: 0.7964 - val_loss: 0.5475\n",
      "Epoch 34/40\n",
      "\u001b[1m106/106\u001b[0m \u001b[32m━━━━━━━━━━━━━━━━━━━━\u001b[0m\u001b[37m\u001b[0m \u001b[1m244s\u001b[0m 2s/step - categorical_accuracy: 0.8024 - loss: 0.5133 - val_categorical_accuracy: 0.7479 - val_loss: 0.5999\n",
      "Epoch 35/40\n",
      "\u001b[1m106/106\u001b[0m \u001b[32m━━━━━━━━━━━━━━━━━━━━\u001b[0m\u001b[37m\u001b[0m \u001b[1m244s\u001b[0m 2s/step - categorical_accuracy: 0.8147 - loss: 0.4970 - val_categorical_accuracy: 0.7988 - val_loss: 0.5044\n",
      "Epoch 36/40\n",
      "\u001b[1m106/106\u001b[0m \u001b[32m━━━━━━━━━━━━━━━━━━━━\u001b[0m\u001b[37m\u001b[0m \u001b[1m246s\u001b[0m 2s/step - categorical_accuracy: 0.8210 - loss: 0.4838 - val_categorical_accuracy: 0.7716 - val_loss: 0.5522\n",
      "Epoch 37/40\n",
      "\u001b[1m106/106\u001b[0m \u001b[32m━━━━━━━━━━━━━━━━━━━━\u001b[0m\u001b[37m\u001b[0m \u001b[1m246s\u001b[0m 2s/step - categorical_accuracy: 0.8218 - loss: 0.4848 - val_categorical_accuracy: 0.7231 - val_loss: 0.7390\n",
      "Epoch 38/40\n",
      "\u001b[1m106/106\u001b[0m \u001b[32m━━━━━━━━━━━━━━━━━━━━\u001b[0m\u001b[37m\u001b[0m \u001b[1m245s\u001b[0m 2s/step - categorical_accuracy: 0.8331 - loss: 0.4460 - val_categorical_accuracy: 0.8071 - val_loss: 0.5086\n",
      "Epoch 39/40\n",
      "\u001b[1m106/106\u001b[0m \u001b[32m━━━━━━━━━━━━━━━━━━━━\u001b[0m\u001b[37m\u001b[0m \u001b[1m246s\u001b[0m 2s/step - categorical_accuracy: 0.8301 - loss: 0.4660 - val_categorical_accuracy: 0.7302 - val_loss: 0.6427\n",
      "Epoch 40/40\n",
      "\u001b[1m106/106\u001b[0m \u001b[32m━━━━━━━━━━━━━━━━━━━━\u001b[0m\u001b[37m\u001b[0m \u001b[1m246s\u001b[0m 2s/step - categorical_accuracy: 0.8279 - loss: 0.4830 - val_categorical_accuracy: 0.7266 - val_loss: 0.7000\n"
=======
   "execution_count": 9,
   "metadata": {},
   "outputs": [
    {
     "name": "stdout",
     "output_type": "stream",
     "text": [
      "Epoch 1/20\n",
      "\u001b[1m106/106\u001b[0m \u001b[32m━━━━━━━━━━━━━━━━━━━━\u001b[0m\u001b[37m\u001b[0m \u001b[1m545s\u001b[0m 4s/step - categorical_accuracy: 0.3689 - loss: 1.8620 - val_categorical_accuracy: 0.2604 - val_loss: 3.6239\n",
      "Epoch 2/20\n",
      "\u001b[1m106/106\u001b[0m \u001b[32m━━━━━━━━━━━━━━━━━━━━\u001b[0m\u001b[37m\u001b[0m \u001b[1m306s\u001b[0m 3s/step - categorical_accuracy: 0.3768 - loss: 1.6173 - val_categorical_accuracy: 0.2604 - val_loss: 2.4461\n",
      "Epoch 3/20\n",
      "\u001b[1m106/106\u001b[0m \u001b[32m━━━━━━━━━━━━━━━━━━━━\u001b[0m\u001b[37m\u001b[0m \u001b[1m204s\u001b[0m 2s/step - categorical_accuracy: 0.4266 - loss: 1.3698 - val_categorical_accuracy: 0.2604 - val_loss: 4.7379\n",
      "Epoch 4/20\n",
      "\u001b[1m106/106\u001b[0m \u001b[32m━━━━━━━━━━━━━━━━━━━━\u001b[0m\u001b[37m\u001b[0m \u001b[1m221s\u001b[0m 2s/step - categorical_accuracy: 0.4553 - loss: 1.2501 - val_categorical_accuracy: 0.2734 - val_loss: 2.9571\n",
      "Epoch 5/20\n",
      "\u001b[1m106/106\u001b[0m \u001b[32m━━━━━━━━━━━━━━━━━━━━\u001b[0m\u001b[37m\u001b[0m \u001b[1m220s\u001b[0m 2s/step - categorical_accuracy: 0.4984 - loss: 1.1604 - val_categorical_accuracy: 0.2615 - val_loss: 4.1370\n",
      "Epoch 6/20\n",
      "\u001b[1m106/106\u001b[0m \u001b[32m━━━━━━━━━━━━━━━━━━━━\u001b[0m\u001b[37m\u001b[0m \u001b[1m219s\u001b[0m 2s/step - categorical_accuracy: 0.5257 - loss: 1.1051 - val_categorical_accuracy: 0.5491 - val_loss: 1.0521\n",
      "Epoch 7/20\n",
      "\u001b[1m106/106\u001b[0m \u001b[32m━━━━━━━━━━━━━━━━━━━━\u001b[0m\u001b[37m\u001b[0m \u001b[1m208s\u001b[0m 2s/step - categorical_accuracy: 0.5710 - loss: 1.0017 - val_categorical_accuracy: 0.5314 - val_loss: 1.2945\n",
      "Epoch 8/20\n",
      "\u001b[1m106/106\u001b[0m \u001b[32m━━━━━━━━━━━━━━━━━━━━\u001b[0m\u001b[37m\u001b[0m \u001b[1m209s\u001b[0m 2s/step - categorical_accuracy: 0.5968 - loss: 0.9571 - val_categorical_accuracy: 0.6130 - val_loss: 0.9161\n",
      "Epoch 9/20\n",
      "\u001b[1m106/106\u001b[0m \u001b[32m━━━━━━━━━━━━━━━━━━━━\u001b[0m\u001b[37m\u001b[0m \u001b[1m207s\u001b[0m 2s/step - categorical_accuracy: 0.6159 - loss: 0.9282 - val_categorical_accuracy: 0.4414 - val_loss: 1.3048\n",
      "Epoch 10/20\n",
      "\u001b[1m106/106\u001b[0m \u001b[32m━━━━━━━━━━━━━━━━━━━━\u001b[0m\u001b[37m\u001b[0m \u001b[1m232s\u001b[0m 2s/step - categorical_accuracy: 0.6522 - loss: 0.8723 - val_categorical_accuracy: 0.5231 - val_loss: 1.1570\n",
      "Epoch 11/20\n",
      "\u001b[1m106/106\u001b[0m \u001b[32m━━━━━━━━━━━━━━━━━━━━\u001b[0m\u001b[37m\u001b[0m \u001b[1m840s\u001b[0m 8s/step - categorical_accuracy: 0.6601 - loss: 0.8269 - val_categorical_accuracy: 0.5172 - val_loss: 1.1424\n",
      "Epoch 12/20\n",
      "\u001b[1m106/106\u001b[0m \u001b[32m━━━━━━━━━━━━━━━━━━━━\u001b[0m\u001b[37m\u001b[0m \u001b[1m711s\u001b[0m 7s/step - categorical_accuracy: 0.6804 - loss: 0.7960 - val_categorical_accuracy: 0.6864 - val_loss: 0.7749\n",
      "Epoch 13/20\n",
      "\u001b[1m106/106\u001b[0m \u001b[32m━━━━━━━━━━━━━━━━━━━━\u001b[0m\u001b[37m\u001b[0m \u001b[1m419s\u001b[0m 4s/step - categorical_accuracy: 0.6902 - loss: 0.7853 - val_categorical_accuracy: 0.5207 - val_loss: 1.1317\n",
      "Epoch 14/20\n",
      "\u001b[1m106/106\u001b[0m \u001b[32m━━━━━━━━━━━━━━━━━━━━\u001b[0m\u001b[37m\u001b[0m \u001b[1m386s\u001b[0m 4s/step - categorical_accuracy: 0.7179 - loss: 0.7299 - val_categorical_accuracy: 0.5456 - val_loss: 1.2378\n",
      "Epoch 15/20\n",
      "\u001b[1m106/106\u001b[0m \u001b[32m━━━━━━━━━━━━━━━━━━━━\u001b[0m\u001b[37m\u001b[0m \u001b[1m343s\u001b[0m 3s/step - categorical_accuracy: 0.7198 - loss: 0.7096 - val_categorical_accuracy: 0.6201 - val_loss: 0.9533\n",
      "Epoch 16/20\n",
      "\u001b[1m106/106\u001b[0m \u001b[32m━━━━━━━━━━━━━━━━━━━━\u001b[0m\u001b[37m\u001b[0m \u001b[1m309s\u001b[0m 3s/step - categorical_accuracy: 0.7355 - loss: 0.6956 - val_categorical_accuracy: 0.6888 - val_loss: 0.7700\n",
      "Epoch 17/20\n",
      "\u001b[1m106/106\u001b[0m \u001b[32m━━━━━━━━━━━━━━━━━━━━\u001b[0m\u001b[37m\u001b[0m \u001b[1m295s\u001b[0m 3s/step - categorical_accuracy: 0.7336 - loss: 0.7088 - val_categorical_accuracy: 0.5763 - val_loss: 1.3320\n",
      "Epoch 18/20\n",
      "\u001b[1m106/106\u001b[0m \u001b[32m━━━━━━━━━━━━━━━━━━━━\u001b[0m\u001b[37m\u001b[0m \u001b[1m282s\u001b[0m 3s/step - categorical_accuracy: 0.7485 - loss: 0.6657 - val_categorical_accuracy: 0.6876 - val_loss: 0.8090\n",
      "Epoch 19/20\n",
      "\u001b[1m106/106\u001b[0m \u001b[32m━━━━━━━━━━━━━━━━━━━━\u001b[0m\u001b[37m\u001b[0m \u001b[1m285s\u001b[0m 3s/step - categorical_accuracy: 0.7462 - loss: 0.6621 - val_categorical_accuracy: 0.7420 - val_loss: 0.6835\n",
      "Epoch 20/20\n",
      "\u001b[1m106/106\u001b[0m \u001b[32m━━━━━━━━━━━━━━━━━━━━\u001b[0m\u001b[37m\u001b[0m \u001b[1m298s\u001b[0m 3s/step - categorical_accuracy: 0.7564 - loss: 0.6532 - val_categorical_accuracy: 0.7041 - val_loss: 0.7600\n"
>>>>>>> 317bdefd40d132d2291fb1a202fb3623461a9973
     ]
    }
   ],
   "source": [
    "history = model.fit(\n",
    "    train_generator,\n",
    "    validation_data=test_generator,\n",
<<<<<<< HEAD
    "    epochs=40,\n",
=======
    "    epochs=20,\n",
>>>>>>> 317bdefd40d132d2291fb1a202fb3623461a9973
    "    verbose=1\n",
    ")"
   ]
  },
  {
   "cell_type": "code",
<<<<<<< HEAD
   "execution_count": 8,
   "metadata": {},
   "outputs": [
    {
     "name": "stdout",
     "output_type": "stream",
     "text": [
      "\u001b[1m27/27\u001b[0m \u001b[32m━━━━━━━━━━━━━━━━━━━━\u001b[0m\u001b[37m\u001b[0m \u001b[1m11s\u001b[0m 408ms/step - categorical_accuracy: 0.7302 - loss: 0.6825\n",
      "Accuracy en test: 0.7266\n"
     ]
    }
   ],
   "source": [
    "test_loss, test_acc = model.evaluate(test_generator)\n",
    "print(f'Accuracy en test: {test_acc:.4f}')"
   ]
  },
  {
   "cell_type": "code",
=======
>>>>>>> 317bdefd40d132d2291fb1a202fb3623461a9973
   "execution_count": 10,
   "metadata": {},
   "outputs": [
    {
<<<<<<< HEAD
     "data": {
      "image/png": "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",
      "text/plain": [
       "<Figure size 1500x200 with 2 Axes>"
      ]
     },
     "metadata": {},
     "output_type": "display_data"
    }
   ],
   "source": [
    "import matplotlib.pyplot as plt\n",
    "\n",
    "plt.figure(figsize = (15,2))\n",
    "\n",
    "plt.subplot(1,2,1)\n",
    "plt.plot(history.history['val_categorical_accuracy'], label = \"validation\")\n",
    "plt.plot(history.history['categorical_accuracy'], label = \"train\")\n",
    "plt.title(\"Accuracy\")\n",
    "plt.xlabel(\"Epochs\")\n",
    "plt.ylabel(\"Acurracy\")\n",
    "plt.grid()\n",
    "plt.legend()\n",
    "\n",
    "plt.subplot(1,2,2)\n",
    "plt.plot(history.history['val_loss'],label = \"validation\")\n",
    "plt.plot(history.history['loss'],label = \"train\")\n",
    "plt.title(\"Loss\")\n",
    "plt.xlabel(\"Epochs\")\n",
    "plt.ylabel(\"Loss\")\n",
    "plt.grid()\n",
    "plt.legend()\n",
    "\n",
    "plt.show()\n"
=======
     "name": "stdout",
     "output_type": "stream",
     "text": [
      "\u001b[1m27/27\u001b[0m \u001b[32m━━━━━━━━━━━━━━━━━━━━\u001b[0m\u001b[37m\u001b[0m \u001b[1m43s\u001b[0m 1s/step - categorical_accuracy: 0.7323 - loss: 0.7122\n",
      "Accuracy en test: 0.7041\n"
     ]
    }
   ],
   "source": [
    "test_loss, test_acc = model.evaluate(test_generator)\n",
    "print(f'Accuracy en test: {test_acc:.4f}')"
>>>>>>> 317bdefd40d132d2291fb1a202fb3623461a9973
   ]
  }
 ],
 "metadata": {
  "kernelspec": {
<<<<<<< HEAD
   "display_name": "Python 3",
=======
   "display_name": ".venv",
>>>>>>> 317bdefd40d132d2291fb1a202fb3623461a9973
   "language": "python",
   "name": "python3"
  },
  "language_info": {
   "codemirror_mode": {
    "name": "ipython",
    "version": 3
   },
   "file_extension": ".py",
   "mimetype": "text/x-python",
   "name": "python",
   "nbconvert_exporter": "python",
   "pygments_lexer": "ipython3",
<<<<<<< HEAD
   "version": "3.12.5"
=======
   "version": "3.10.11"
>>>>>>> 317bdefd40d132d2291fb1a202fb3623461a9973
  }
 },
 "nbformat": 4,
 "nbformat_minor": 2
}
